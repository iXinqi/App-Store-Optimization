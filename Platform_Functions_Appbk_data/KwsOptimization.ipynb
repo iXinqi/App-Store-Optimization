{
 "cells": [
  {
   "cell_type": "code",
   "execution_count": 24,
   "metadata": {},
   "outputs": [],
   "source": [
    "from simple_io import IO\n",
    "import jieba\n",
    "from jieba import posseg\n",
    "from collections import Counter\n",
    "import re,time\n",
    "import json\n",
    "import requests\n",
    "\n",
    "appname = '网易彩票'\n",
    "subtitle = '网易的彩票啊啊啊'\n",
    "KeyWords = '彩票足球开奖六合彩体育直播篮球,彩六合双色球快比分助手北京福彩预测,全民竞猜三福利App体彩天天中,七星赛车足彩3福利彩票重庆中国球探大师3d吧,博彩足球彩票pk10新浪选五'\n"
   ]
  },
  {
   "cell_type": "code",
   "execution_count": 25,
   "metadata": {},
   "outputs": [],
   "source": [
    "t1 = time.time()"
   ]
  },
  {
   "cell_type": "code",
   "execution_count": 26,
   "metadata": {},
   "outputs": [
    {
     "name": "stdout",
     "output_type": "stream",
     "text": [
      "1、您的应用名称填写了 4 个字符。\n",
      " 您的应用名称过短，建议补充以增加关键词覆盖。例如：“腾讯视频-电视剧电影综艺体育直播视频播放器”\n",
      "2、您的应用名称和关键词中，“彩票”出现了 5 次，“网易”出现了 2 次，“六合”出现了 2 次，“足球”出现了 2 次，“福利”出现了 2 次。\n",
      "更换其他词，以覆盖更多的关键词。\n",
      "3、App Store 关键词可以填写 100 个字符，您的关键词仅填写了 87 字。\n",
      "补充至100个字符，以充分利用字符空间，增加可能覆盖的关键词数量。\n"
     ]
    }
   ],
   "source": [
    "n = 1\n",
    "if len(appname) > 23 :\n",
    "    print(str(n) + '、您的应用名称填写了 ' + str(len(appname)) + ' 个字符。\\n 应用名称保持在23个字符左右或更少，让其在每个设备上都有最优的表现。')\n",
    "    n += 1\n",
    "if len(appname) < 7 :\n",
    "    print(str(n) + '、您的应用名称填写了 ' + str(len(appname)) + ' 个字符。\\n 您的应用名称过短，建议补充以增加关键词覆盖。例如：“腾讯视频-电视剧电影综艺体育直播视频播放器”')\n",
    "    n += 1 \n",
    "\n",
    "\n",
    "KeyWord = re.sub(\"[\\s+\\.\\!\\/_,$%^*(+\\\"\\']+|[+——！，。？、~@#￥%……&*（）]+\", \"\",KeyWords+subtitle+appname) \n",
    "\n",
    "def posseg_cut(subtitle, keyword):\n",
    "    seg_list = posseg.cut(subtitle)\n",
    "    for word,flag in seg_list:  \n",
    "        if flag == 'n':   \n",
    "            keyword += word\n",
    "            keyword += ','\n",
    "    return keyword[:-1]\n",
    "\n",
    "def jieba_cut(subtitle, keyword):\n",
    "    seg_list = jieba.cut_for_search(subtitle)\n",
    "    for word in seg_list:\n",
    "        keyword += word\n",
    "        keyword += ','\n",
    "    return keyword[:-1]\n",
    "\n",
    "keyword = jieba_cut(KeyWord, '')\n",
    "keyword = keyword.split(',')\n",
    "\n",
    "result = str(n) + '、您的应用名称和关键词中，'\n",
    "times = Counter(keyword)\n",
    "for word in times.most_common():\n",
    "    if word[1] > 1:\n",
    "        result = result + \"“\" + word[0] + \"”\" + \"出现了 \" + str(word[1]) + \" 次，\"\n",
    "result = result[:-1] + \"。\\n更换其他词，以覆盖更多的关键词。\"\n",
    "print(result)\n",
    "n += 1\n",
    "\n",
    "if len(KeyWords) < 100:\n",
    "    print(str(n) + '、App Store 关键词可以填写 100 个字符，您的关键词仅填写了 '+ str(len(KeyWords))+' 字。\\n补充至100个字符，以充分利用字符空间，增加可能覆盖的关键词数量。')"
   ]
  },
  {
   "cell_type": "code",
   "execution_count": 27,
   "metadata": {},
   "outputs": [],
   "source": [
    "timeout = 4\n",
    "\n",
    "def rank(word):\n",
    "    url ='http://rest.appbk.com/word/get_word_hot_rank?n='+ word +'&cc=cn'\n",
    "    try:\n",
    "        resp_ = requests.get(url,timeout=timeout,verify = False)\n",
    "        resp_2 = resp_.content\n",
    "        resp_3 = resp_2.decode('utf-8')\n",
    "\n",
    "        resp_list = json.loads(resp_3)\n",
    "        return int(resp_list['rank'])\n",
    "    except Exception as e:\n",
    "        print(e)    \n",
    "        return -1"
   ]
  },
  {
   "cell_type": "code",
   "execution_count": 28,
   "metadata": {},
   "outputs": [],
   "source": [
    "def resnum(word):\n",
    "    url ='http://rest.appbk.com/app/get_all_app_search_results?n='+ word +'&start=0&limit=30&cc=cn'\n",
    "    try:\n",
    "        resp_ = requests.get(url,timeout=timeout,verify = False)\n",
    "        resp_2 = resp_.content\n",
    "        resp_3 = resp_2.decode('utf-8')\n",
    "\n",
    "        resp_list = json.loads(resp_3)\n",
    "        return int(resp_list['num'])\n",
    "    except Exception as e:\n",
    "        print(e)    \n",
    "        return -1"
   ]
  },
  {
   "cell_type": "code",
   "execution_count": 29,
   "metadata": {},
   "outputs": [],
   "source": [
    "result = []\n",
    "result2 = []\n",
    "keyword = list(set(keyword))\n",
    "for word in keyword:\n",
    "    wordrank = rank(word)\n",
    "    if wordrank > 4604:\n",
    "        wordres = resnum(word)\n",
    "        if wordres != -1:\n",
    "            result.append(word+'@@@'+str(wordres))\n",
    "            result2.append(wordrank)\n",
    "            \n",
    "res_dict = dict(zip(result,result2))\n",
    "res_dict = sorted(res_dict.items(),key = lambda x:x[1],reverse = True)"
   ]
  },
  {
   "cell_type": "code",
   "execution_count": 30,
   "metadata": {},
   "outputs": [
    {
     "data": {
      "text/plain": [
       "[['彩票', 10252, 895],\n",
       " ['足彩', 9004, 1003],\n",
       " ['足球', 8970, 1187],\n",
       " ['体彩', 8891, 669],\n",
       " ['直播', 8264, 1394],\n",
       " ['网易', 7909, 1502],\n",
       " ['福利彩票', 7782, 577],\n",
       " ['足球彩票', 7730, 1047],\n",
       " ['球探', 7603, 240],\n",
       " ['六合彩', 7267, 762],\n",
       " ['pk10', 6901, 904],\n",
       " ['赛车', 6866, 1211],\n",
       " ['体育', 6833, 1434],\n",
       " ['双色球', 6807, 775],\n",
       " ['博彩', 6770, 830],\n",
       " ['竞猜', 6632, 1257],\n",
       " ['篮球', 6395, 1428],\n",
       " ['福彩', 6304, 594],\n",
       " ['天天', 6249, 1464],\n",
       " ['新浪', 5860, 1341],\n",
       " ['比分', 5659, 1164],\n",
       " ['六合', 5342, 806],\n",
       " ['3d', 5146, 1434],\n",
       " ['福利', 4786, 1020],\n",
       " ['预测', 4619, 1056],\n",
       " ['大师', 4613, 1415],\n",
       " ['啊啊啊', 4605, 109],\n",
       " ['开奖', 4605, 794]]"
      ]
     },
     "execution_count": 30,
     "metadata": {},
     "output_type": "execute_result"
    }
   ],
   "source": [
    "result = []\n",
    "for item in res_dict:\n",
    "    temp = []\n",
    "    temp.append(item[0].split(\"@@@\")[0])\n",
    "    temp.append(item[1])\n",
    "    temp.append(int(item[0].split(\"@@@\")[1]))\n",
    "    result.append(temp)\n",
    "result"
   ]
  },
  {
   "cell_type": "code",
   "execution_count": 31,
   "metadata": {},
   "outputs": [
    {
     "data": {
      "text/plain": [
       "10.097028732299805"
      ]
     },
     "execution_count": 31,
     "metadata": {},
     "output_type": "execute_result"
    }
   ],
   "source": [
    "time.time()-t1"
   ]
  }
 ],
 "metadata": {
  "kernelspec": {
   "display_name": "Python 3",
   "language": "python",
   "name": "python3"
  },
  "language_info": {
   "codemirror_mode": {
    "name": "ipython",
    "version": 3
   },
   "file_extension": ".py",
   "mimetype": "text/x-python",
   "name": "python",
   "nbconvert_exporter": "python",
   "pygments_lexer": "ipython3",
   "version": "3.5.3"
  }
 },
 "nbformat": 4,
 "nbformat_minor": 2
}
