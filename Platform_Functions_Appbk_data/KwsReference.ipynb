{
 "cells": [
  {
   "cell_type": "code",
   "execution_count": 1,
   "metadata": {},
   "outputs": [],
   "source": [
    "import time\n",
    "import requests\n",
    "from bs4 import BeautifulSoup\n",
    "import sys ,os,math\n",
    "import json\n",
    "\n",
    "word = '彩票'"
   ]
  },
  {
   "cell_type": "code",
   "execution_count": 2,
   "metadata": {},
   "outputs": [],
   "source": [
    "timeout = 4\n",
    "\n",
    "def kws_extend(word):\n",
    "    url ='http://rest.appbk.com/app_tools/get_word_expand?n=' +word \n",
    "    word = []\n",
    "    rank = []\n",
    "    try:\n",
    "        resp_ = requests.get(url,timeout=timeout,verify = False)\n",
    "        resp_2 = resp_.content\n",
    "        resp_3 = resp_2.decode('utf-8')\n",
    "        \n",
    "        resp_list = json.loads(resp_3)\n",
    "        for item in resp_list:\n",
    "            word.append(item['word']) \n",
    "        return word    \n",
    "    except Exception as e:\n",
    "        print(e)"
   ]
  },
  {
   "cell_type": "code",
   "execution_count": 3,
   "metadata": {
    "scrolled": true
   },
   "outputs": [
    {
     "data": {
      "text/plain": [
       "['彩票',\n",
       " '体育竞彩',\n",
       " '竞猜足球',\n",
       " 'bet365体育',\n",
       " '拾柒',\n",
       " '澳客彩票',\n",
       " '足球直播',\n",
       " '彩店宝',\n",
       " '彩票管家',\n",
       " '87彩票',\n",
       " '卓易彩票',\n",
       " '彩店宝彩票',\n",
       " '87',\n",
       " '好彩店',\n",
       " '米兜彩票',\n",
       " '中国足球彩票',\n",
       " '盈彩彩票',\n",
       " '卓易',\n",
       " '奥客彩票',\n",
       " '必赢彩票',\n",
       " '彩店',\n",
       " '盈彩',\n",
       " '好彩',\n",
       " '福利',\n",
       " '彩猫彩票',\n",
       " 'a8彩票',\n",
       " '网易彩',\n",
       " '新浪爱彩',\n",
       " '桌易彩票',\n",
       " '网易足彩',\n",
       " '中国体彩官方',\n",
       " '微彩票',\n",
       " '小米彩票',\n",
       " '易彩票',\n",
       " '全民彩',\n",
       " '九万彩票',\n",
       " '快乐足球',\n",
       " '新彩票',\n",
       " '好运彩票',\n",
       " '彩票分析',\n",
       " '掌尚彩票',\n",
       " '买衣服软件',\n",
       " '易宝',\n",
       " '好材',\n",
       " '快乐彩票',\n",
       " '高频彩票',\n",
       " '網易彩票',\n",
       " '桌椅彩票',\n",
       " '暴风体育',\n",
       " '必赢客']"
      ]
     },
     "execution_count": 3,
     "metadata": {},
     "output_type": "execute_result"
    }
   ],
   "source": [
    "kws_extend(word)"
   ]
  },
  {
   "cell_type": "code",
   "execution_count": null,
   "metadata": {},
   "outputs": [],
   "source": []
  }
 ],
 "metadata": {
  "kernelspec": {
   "display_name": "Python 3.6",
   "language": "python",
   "name": "python36"
  },
  "language_info": {
   "codemirror_mode": {
    "name": "ipython",
    "version": 3
   },
   "file_extension": ".py",
   "mimetype": "text/x-python",
   "name": "python",
   "nbconvert_exporter": "python",
   "pygments_lexer": "ipython3",
   "version": "3.6.2"
  }
 },
 "nbformat": 4,
 "nbformat_minor": 2
}
