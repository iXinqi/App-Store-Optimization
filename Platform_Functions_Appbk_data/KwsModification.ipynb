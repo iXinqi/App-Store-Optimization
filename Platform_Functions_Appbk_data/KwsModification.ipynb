{
 "cells": [
  {
   "cell_type": "code",
   "execution_count": 1,
   "metadata": {},
   "outputs": [],
   "source": [
    "import jieba\n",
    "from jieba import posseg\n",
    "from collections import Counter\n",
    "import re,time,sys ,os\n",
    "from simple_io import IO\n",
    "import math\n",
    "import requests,json\n",
    "import datetime\n",
    "\n",
    "\n",
    "appid = '411654863'         \n",
    "input_kws = '彩票足球开奖六合彩体育直播篮球，彩六合双色球快比分助手北京福彩预测，全民竞猜三福利App体彩天天中，七星赛车足彩3福利彩票重庆中国球探大师3d吧，博彩足球彩票pk10新浪选五'\n",
    "split_sig = '，'       #####  关键词之间要以中文逗号分隔\n"
   ]
  },
  {
   "cell_type": "code",
   "execution_count": 2,
   "metadata": {},
   "outputs": [],
   "source": [
    "t1 = time.time()"
   ]
  },
  {
   "cell_type": "code",
   "execution_count": 3,
   "metadata": {},
   "outputs": [
    {
     "name": "stderr",
     "output_type": "stream",
     "text": [
      "Building prefix dict from the default dictionary ...\n",
      "Loading model from cache /tmp/jieba.cache\n",
      "Loading model cost 0.839 seconds.\n",
      "Prefix dict has been built succesfully.\n"
     ]
    }
   ],
   "source": [
    "input_kwslist = input_kws.split(split_sig)\n",
    "\n",
    "def jieba_cut(subtitle):\n",
    "    seg_list = jieba.cut_for_search(subtitle)\n",
    "    keyword = []\n",
    "    for word in seg_list:\n",
    "        keyword.append(word)\n",
    "    return keyword\n",
    "\n",
    "keywords = []\n",
    "for words in input_kwslist:\n",
    "    keywords.extend(jieba_cut(words))\n"
   ]
  },
  {
   "cell_type": "code",
   "execution_count": 4,
   "metadata": {},
   "outputs": [],
   "source": [
    "timeout = 4\n",
    "\n",
    "def rank(word):\n",
    "    url ='http://rest.appbk.com/word/get_word_hot_rank?n='+ word +'&cc=cn'\n",
    "    try:\n",
    "        resp_ = requests.get(url,timeout=timeout,verify = False)\n",
    "        resp_2 = resp_.content\n",
    "        resp_3 = resp_2.decode('utf-8')\n",
    "\n",
    "        resp_list = json.loads(resp_3)\n",
    "        return int(resp_list['rank'])\n",
    "    except Exception as e:\n",
    "        print(e)    \n",
    "        return -1"
   ]
  },
  {
   "cell_type": "code",
   "execution_count": 5,
   "metadata": {},
   "outputs": [],
   "source": [
    "wordredudict = {}\n",
    "for word in keywords:\n",
    "    wordredudict[word] = rank(word)"
   ]
  },
  {
   "cell_type": "code",
   "execution_count": 6,
   "metadata": {},
   "outputs": [],
   "source": [
    "for key,value in wordredudict.items():\n",
    "    if value > 4604:\n",
    "        if value > 5000:\n",
    "            qv = 2.5 * math.exp(0.001 * value)\n",
    "        else:\n",
    "            qv = value - 4604\n",
    "\n",
    "        score = math.log(qv) / math.pow(value,0.75)\n",
    "        wordredudict[key] = score\n",
    "    \n",
    "wordlist = sorted(wordredudict.items(),key = lambda x:x[1],reverse = True)    "
   ]
  },
  {
   "cell_type": "code",
   "execution_count": 7,
   "metadata": {},
   "outputs": [],
   "source": [
    "top70 = []\n",
    "for item in wordlist[:int(len(wordlist) * 0.7)]:\n",
    "    top70.append(item[0])\n",
    "\n",
    "top70str = ''\n",
    "strlen = 0\n",
    "for item in top70:\n",
    "    top70str += item\n",
    "    strlen += len(item)\n",
    "    if strlen > 10:\n",
    "        strlen = 0\n",
    "        top70str += split_sig\n",
    "# top70str"
   ]
  },
  {
   "cell_type": "code",
   "execution_count": 8,
   "metadata": {},
   "outputs": [],
   "source": [
    "##############   语义拓展\n",
    "\n",
    "word = top70[0]\n",
    "\n",
    "today = datetime.date.today().strftime('%Y-%m-%d')\n",
    "yesterday = (datetime.date.today() + datetime.timedelta(days=-1)).strftime('%Y-%m-%d')\n",
    "now_time_H = datetime.datetime.now().strftime('%H')\n",
    "\n",
    "timeout = 4\n"
   ]
  },
  {
   "cell_type": "code",
   "execution_count": 9,
   "metadata": {},
   "outputs": [],
   "source": [
    "def competitive_product(word,appnum):\n",
    "    url ='http://rest.appbk.com/app/get_all_app_search_results?n=' + word + '&start=0&limit=100&cc=cn' \n",
    "    appid = []\n",
    "    try:\n",
    "        resp_ = requests.get(url,timeout=timeout,verify = False)\n",
    "        resp_2 = resp_.content\n",
    "        resp_3 = resp_2.decode('utf-8')\n",
    "        \n",
    "        resp_list = json.loads(resp_3)\n",
    "        resp_list = resp_list['results']\n",
    "        for item in resp_list:\n",
    "            appid.append(item['app_id']) \n",
    "            if len(appid) > appnum:\n",
    "                break\n",
    "        return appid    \n",
    "    except Exception as e:\n",
    "        print(e)"
   ]
  },
  {
   "cell_type": "code",
   "execution_count": 10,
   "metadata": {},
   "outputs": [],
   "source": [
    "def competitive_product_kws_rank(appid_list,kwsnum):\n",
    "    kws = []\n",
    "    rank = []\n",
    "    for appid in appid_list:       \n",
    "        url ='http://rest.appbk.com/word/get_app_word_two_date_compare?email=&app_id=' + appid + '&token=&start=0&limit=12000&simple=1&cur_date=' + today + '&pre_date=' + yesterday        \n",
    "        try:\n",
    "            resp_ = requests.get(url,timeout=timeout,verify = False)\n",
    "            resp_2 = resp_.content\n",
    "            resp_3 = resp_2.decode('utf-8')\n",
    "\n",
    "            resp_list = json.loads(resp_3)\n",
    "            resp_list = resp_list['results']\n",
    "\n",
    "            for item in resp_list:\n",
    "                if item[0] not in kws and int(item[3])>4604:\n",
    "                    kws.append(item[0]) \n",
    "                    rank.append(int(item[3])) \n",
    "                    if len(kws) > kwsnum:\n",
    "                        break  \n",
    "        except Exception as e:\n",
    "            print(e)\n",
    "    res = dict(zip(kws, rank))\n",
    "    \n",
    "    return res"
   ]
  },
  {
   "cell_type": "code",
   "execution_count": 11,
   "metadata": {},
   "outputs": [],
   "source": [
    "### 输入词下的前15个竞品appid\n",
    "appid = competitive_product(word,10)\n",
    "\n",
    "### 所有竞品关键词，每个竞品取热度前100的关键词\n",
    "wordredudict = competitive_product_kws_rank(appid,100)\n"
   ]
  },
  {
   "cell_type": "code",
   "execution_count": 12,
   "metadata": {},
   "outputs": [
    {
     "data": {
      "text/plain": [
       "'色球彩票足彩足球体彩直播，福利彩票足球彩票球探六合彩，pk10赛车体育双色球，博彩竞猜篮球福彩天天新浪，比分六合3d福利预测大师，彩App重庆酷彩麻将校友，车网医程机网软件彩站人人，盈先锋结果官方助手'"
      ]
     },
     "execution_count": 12,
     "metadata": {},
     "output_type": "execute_result"
    }
   ],
   "source": [
    "###### 生成后30%的关键词\n",
    "\n",
    "wordlist = sorted(wordredudict.items(),key = lambda x:x[1],reverse = True)\n",
    "for item in wordlist:\n",
    "    seg_list = posseg.cut(item[0])\n",
    "    for word,flag in seg_list:\n",
    "        if flag == 'n':\n",
    "            if word not in top70:\n",
    "                top70.append(word)\n",
    "                top70str += word\n",
    "                strlen += len(word)\n",
    "                if strlen > 10:\n",
    "                    strlen = 0\n",
    "                    top70str += split_sig\n",
    "                if len(top70str) > 100:\n",
    "                    break\n",
    "top70str = top70str[:100]\n",
    "top70str"
   ]
  },
  {
   "cell_type": "code",
   "execution_count": 13,
   "metadata": {},
   "outputs": [
    {
     "data": {
      "text/plain": [
       "15.689949035644531"
      ]
     },
     "execution_count": 13,
     "metadata": {},
     "output_type": "execute_result"
    }
   ],
   "source": [
    "time.time()-t1"
   ]
  },
  {
   "cell_type": "code",
   "execution_count": null,
   "metadata": {},
   "outputs": [],
   "source": []
  }
 ],
 "metadata": {
  "kernelspec": {
   "display_name": "Python 3",
   "language": "python",
   "name": "python3"
  },
  "language_info": {
   "codemirror_mode": {
    "name": "ipython",
    "version": 3
   },
   "file_extension": ".py",
   "mimetype": "text/x-python",
   "name": "python",
   "nbconvert_exporter": "python",
   "pygments_lexer": "ipython3",
   "version": "3.5.3"
  }
 },
 "nbformat": 4,
 "nbformat_minor": 2
}
