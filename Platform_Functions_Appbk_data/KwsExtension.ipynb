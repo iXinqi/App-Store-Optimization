{
 "cells": [
  {
   "cell_type": "code",
   "execution_count": 84,
   "metadata": {},
   "outputs": [],
   "source": [
    "import time\n",
    "import requests\n",
    "from bs4 import BeautifulSoup\n",
    "import sys ,os,math\n",
    "import json\n",
    "import datetime\n",
    "\n",
    "import io\n",
    "import urllib\n",
    "import http.cookiejar\n",
    "\n",
    "word = '音乐'\n",
    "is_chextend = 0  #### 文字拓展is_chextend = 1，语义拓展is_chextend = 0"
   ]
  },
  {
   "cell_type": "code",
   "execution_count": 85,
   "metadata": {},
   "outputs": [],
   "source": [
    "t1 = time.time()"
   ]
  },
  {
   "cell_type": "code",
   "execution_count": 86,
   "metadata": {},
   "outputs": [],
   "source": [
    "def competitive_product(word,appnum):\n",
    "    url ='http://rest.appbk.com/app/get_all_app_search_results?n=' + word + '&start=0&limit=100&cc=cn' \n",
    "    appid = []\n",
    "    try:\n",
    "        resp_ = requests.get(url,timeout=timeout,verify = False)\n",
    "        resp_2 = resp_.content\n",
    "        resp_3 = resp_2.decode('utf-8')\n",
    "        \n",
    "        resp_list = json.loads(resp_3)\n",
    "        resp_list = resp_list['results']\n",
    "        for item in resp_list:\n",
    "            appid.append(item['app_id']) \n",
    "            if len(appid) > appnum:\n",
    "                break\n",
    "        return appid    \n",
    "    except Exception as e:\n",
    "        print(e)"
   ]
  },
  {
   "cell_type": "code",
   "execution_count": 87,
   "metadata": {},
   "outputs": [],
   "source": [
    "def competitive_product_kws_rank(appid_list,kwsnum):\n",
    "    kws = []\n",
    "    rank = []\n",
    "    for appid in appid_list:       \n",
    "        url ='http://rest.appbk.com/word/get_app_word_two_date_compare?email=&app_id=' + appid + '&token=&start=0&limit=12000&simple=1&cur_date=' + today + '&pre_date=' + yesterday        \n",
    "        try:\n",
    "            resp_ = requests.get(url,timeout=timeout,verify = False)\n",
    "            resp_2 = resp_.content\n",
    "            resp_3 = resp_2.decode('utf-8')\n",
    "\n",
    "            resp_list = json.loads(resp_3)\n",
    "            resp_list = resp_list['results']\n",
    "\n",
    "            for item in resp_list:\n",
    "                if item[0] not in kws and int(item[3])>4604:\n",
    "                    kws.append(item[0]) \n",
    "                    rank.append(int(item[3])) \n",
    "                    if len(kws) > kwsnum:\n",
    "                        break  \n",
    "        except Exception as e:\n",
    "            print(e)\n",
    "    res = dict(zip(kws, rank))\n",
    "    \n",
    "    return sorted(res.items(), key=lambda d:d[1], reverse = True)\n",
    "     \n"
   ]
  },
  {
   "cell_type": "code",
   "execution_count": 88,
   "metadata": {},
   "outputs": [],
   "source": [
    "def relevance_qimai(word, inputword):\n",
    "    url ='https://api.qimai.cn/trend/keywordExtend?analysis=LFRfBUNNMgMKIwQMcRpNF0tVC1BOCFJOR19FXXMZQVYPVXJAAVNRA1FRDwgCAVcjGgE%3D&keyword=' + word + '&page=1'\n",
    "    try:\n",
    "        data = {'username':'15652766069','password':'123456'}\n",
    "        post_data = urllib.parse.urlencode(data).encode('utf-8')\n",
    "        #设置请求头\n",
    "        headers = {'User-agent':'Mozilla/5.0 (Windows NT 6.1; WOW64) AppleWebKit/537.36 (KHTML, like Gecko) Chrome/60.0.3112.113 Safari/537.36'}\n",
    "        #登录时表单提交到的地址（用开发者工具可以看到）\n",
    "        login_url = 'https://api.qimai.cn/account/signinForm?analysis=IRIdAlMFDkMPFhZCWF4MCld2CkYMIxQGBQMODwVYBgVRCXJAAQ%3D%3D'\n",
    "        session = requests.Session()\n",
    "        resp = session.post(login_url,headers=headers, data=data)\n",
    "\n",
    "        \n",
    "        resp_ = session.get(url)\n",
    "        resp_2 = resp_.content\n",
    "        resp_3 = resp_2.decode('utf-8')        \n",
    "        resp_list = json.loads(resp_3)\n",
    "        resp_list = resp_list['extendList']['list']\n",
    "        for item in resp_list:\n",
    "            if item['word'] == inputword:\n",
    "                return int(item['relate'])\n",
    "    except Exception as e:\n",
    "        print(e)\n",
    "    return -1"
   ]
  },
  {
   "cell_type": "code",
   "execution_count": 89,
   "metadata": {
    "scrolled": true
   },
   "outputs": [],
   "source": [
    "today = datetime.date.today().strftime('%Y-%m-%d')\n",
    "yesterday = (datetime.date.today() + datetime.timedelta(days=-1)).strftime('%Y-%m-%d')\n",
    "now_time_H = datetime.datetime.now().strftime('%H')\n",
    "\n",
    "timeout = 4\n",
    "\n",
    "### 输入词下的前15个竞品appid\n",
    "appid = competitive_product(word,10)\n",
    "\n",
    "### 所有竞品关键词，每个竞品取热度前100的关键词\n",
    "kws_rank = competitive_product_kws_rank(appid,100)"
   ]
  },
  {
   "cell_type": "code",
   "execution_count": 90,
   "metadata": {},
   "outputs": [],
   "source": [
    "### 文字拓展筛选包含输入词的词\n",
    "if is_chextend:\n",
    "    kws_list = []\n",
    "    for item in kws_rank:\n",
    "        if word in item[0]:\n",
    "            kws_list.append(item)\n",
    "    kws_rank = kws_list"
   ]
  },
  {
   "cell_type": "code",
   "execution_count": 91,
   "metadata": {},
   "outputs": [],
   "source": [
    "### 查询相关度\n",
    "kws_list = []\n",
    "for item in kws_rank:\n",
    "    num = relevance_qimai(item[0], word)\n",
    "    if num != -1:       \n",
    "        temp = []\n",
    "        temp.append(item[0])\n",
    "        temp.append(item[1])\n",
    "        temp.append(num/100)\n",
    "        kws_list.append(temp)"
   ]
  },
  {
   "cell_type": "code",
   "execution_count": 92,
   "metadata": {},
   "outputs": [
    {
     "data": {
      "text/plain": [
       "[['网易云音乐', 9504, 0.73],\n",
       " ['qq音乐', 9408, 0.72],\n",
       " ['酷狗音乐', 9400, 0.65],\n",
       " ['音乐', 8710, 1.0],\n",
       " ['虾米音乐', 7985, 0.7],\n",
       " ['酷我音乐', 7967, 0.71],\n",
       " ['酷我', 6795, 0.67],\n",
       " ['咪咕音乐', 6681, 0.69],\n",
       " ['apple', 6373, 0.09],\n",
       " ['Music', 6057, 0.48],\n",
       " ['apple muisc', 6006, 0.24],\n",
       " ['itunes音乐', 5750, 0.17],\n",
       " ['音乐app', 5133, 0.79],\n",
       " ['apple music', 5013, 0.44],\n",
       " ['酷我音乐盒', 5002, 0.65],\n",
       " ['天天动听', 4942, 0.23],\n",
       " ['多米音乐', 4900, 0.69],\n",
       " ['beats', 4799, 0.11],\n",
       " ['千千静听', 4704, 0.14],\n",
       " ['多米', 4664, 0.41],\n",
       " ['音樂', 4634, 0.8],\n",
       " ['天天动听音乐播放器', 4634, 0.37],\n",
       " ['applemusic', 4623, 0.17],\n",
       " ['咪咕彩铃', 4621, 0.68],\n",
       " ['kuwo', 4620, 0.66],\n",
       " ['itunes music', 4619, 0.1],\n",
       " ['joox music', 4617, 0.63],\n",
       " ['ipod', 4616, 0.16],\n",
       " ['咪咕爱唱', 4609, 0.65],\n",
       " ['appmusic', 4606, 0.52],\n",
       " ['酷狗音乐盒', 4606, 0.44],\n",
       " ['天天静听', 4606, 0.46],\n",
       " ['kugoo', 4606, 0.6],\n",
       " ['狗音乐', 4606, 0.68],\n",
       " ['咪咕音乐客户端', 4606, 0.69],\n",
       " ['米咕音乐', 4606, 0.68],\n",
       " ['音乐盒', 4606, 0.69],\n",
       " ['musica', 4605, 0.11],\n",
       " ['beats music', 4605, 0.16],\n",
       " ['畅想', 4605, 0.12],\n",
       " ['酷我音乐播放器', 4605, 0.47],\n",
       " ['音乐酷狗音乐', 4605, 0.52],\n",
       " ['kuwoyinyue', 4605, 0.33],\n",
       " ['酷我音樂', 4605, 0.25],\n",
       " ['酷我音乐盒下载', 4605, 0.52],\n",
       " ['酷k', 4605, 0.31],\n",
       " ['酷儿音乐', 4605, 0.49],\n",
       " ['kuwo music', 4605, 0.66],\n",
       " ['酷我音乐免费', 4605, 0.27],\n",
       " ['酷播音乐', 4605, 0.51],\n",
       " ['天天动听播放器', 4605, 0.62]]"
      ]
     },
     "execution_count": 92,
     "metadata": {},
     "output_type": "execute_result"
    }
   ],
   "source": [
    "kws_list"
   ]
  },
  {
   "cell_type": "code",
   "execution_count": 93,
   "metadata": {},
   "outputs": [
    {
     "data": {
      "text/plain": [
       "47.14812612533569"
      ]
     },
     "execution_count": 93,
     "metadata": {},
     "output_type": "execute_result"
    }
   ],
   "source": [
    "time.time() - t1"
   ]
  }
 ],
 "metadata": {
  "kernelspec": {
   "display_name": "Python 3.6",
   "language": "python",
   "name": "python36"
  },
  "language_info": {
   "codemirror_mode": {
    "name": "ipython",
    "version": 3
   },
   "file_extension": ".py",
   "mimetype": "text/x-python",
   "name": "python",
   "nbconvert_exporter": "python",
   "pygments_lexer": "ipython3",
   "version": "3.6.2"
  }
 },
 "nbformat": 4,
 "nbformat_minor": 2
}
