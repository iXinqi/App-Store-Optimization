{
 "cells": [
  {
   "cell_type": "code",
   "execution_count": 9,
   "metadata": {},
   "outputs": [],
   "source": [
    "import jieba,time\n",
    "from jieba import posseg\n",
    "\n",
    "words = \"新闻新浪网易新闻网易搜狐网络新闻腾讯新闻网易搜狐新闻新浪邮箱今日头条\""
   ]
  },
  {
   "cell_type": "code",
   "execution_count": 10,
   "metadata": {},
   "outputs": [],
   "source": [
    "t1 = time.time()"
   ]
  },
  {
   "cell_type": "code",
   "execution_count": 11,
   "metadata": {},
   "outputs": [
    {
     "data": {
      "text/plain": [
       "'新闻,新浪网,易,新闻,网易,搜狐,网络新闻,腾讯,新闻,网易,搜狐,新闻,新浪,邮箱,今日,头条'"
      ]
     },
     "execution_count": 11,
     "metadata": {},
     "output_type": "execute_result"
    }
   ],
   "source": [
    "seg_list = posseg.cut(words)\n",
    "# seg_list = jieba.cut(words)\n",
    "\n",
    "keyword = ''\n",
    "for word,flag in seg_list:  \n",
    "    keyword += word\n",
    "    keyword += ','\n",
    "\n",
    "keyword = keyword[:-1]\n",
    "keyword"
   ]
  },
  {
   "cell_type": "code",
   "execution_count": 12,
   "metadata": {},
   "outputs": [
    {
     "data": {
      "text/plain": [
       "0.13162612915039062"
      ]
     },
     "execution_count": 12,
     "metadata": {},
     "output_type": "execute_result"
    }
   ],
   "source": [
    "time.time()-t1"
   ]
  }
 ],
 "metadata": {
  "kernelspec": {
   "display_name": "Python 3",
   "language": "python",
   "name": "python3"
  },
  "language_info": {
   "codemirror_mode": {
    "name": "ipython",
    "version": 3
   },
   "file_extension": ".py",
   "mimetype": "text/x-python",
   "name": "python",
   "nbconvert_exporter": "python",
   "pygments_lexer": "ipython3",
   "version": "3.5.3"
  }
 },
 "nbformat": 4,
 "nbformat_minor": 2
}
