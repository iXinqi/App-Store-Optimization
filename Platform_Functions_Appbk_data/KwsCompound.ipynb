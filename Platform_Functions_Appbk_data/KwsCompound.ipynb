{
 "cells": [
  {
   "cell_type": "code",
   "execution_count": 12,
   "metadata": {},
   "outputs": [],
   "source": [
    "from jieba import posseg\n",
    "from functools import reduce\n",
    "words = \"新闻新浪、网易新闻、网易搜狐网络新闻、腾讯新闻、网易搜狐新闻、新浪邮箱、今日头条\""
   ]
  },
  {
   "cell_type": "code",
   "execution_count": 13,
   "metadata": {},
   "outputs": [],
   "source": [
    "def remove_dual(corpus):\n",
    "    func = lambda x,y:x if y in x else x + [y]\n",
    "    keyword_list = reduce(func, [[], ] + corpus)\n",
    "    return keyword_list\n",
    "\n",
    "def count_len(wordlist):\n",
    "    listlen = 0\n",
    "    for i in wordlist:\n",
    "        listlen += len(i)\n",
    "    return listlen"
   ]
  },
  {
   "cell_type": "code",
   "execution_count": 14,
   "metadata": {},
   "outputs": [],
   "source": [
    "###########  推荐方案\n",
    "seg_list = posseg.cut(words)\n",
    "\n",
    "corpus=[]\n",
    "temp = []\n",
    "for word,flag in seg_list:\n",
    "    if flag != 'x':\n",
    "        temp.append(word)\n",
    "        temp = remove_dual(temp)    \n",
    "        temp_len = count_len(temp) \n",
    "#         print(temp)\n",
    "        if temp_len< 10:\n",
    "            continue\n",
    "        if temp_len >= 10:\n",
    "            corpus.append(temp)\n",
    "            temp = []\n",
    "corpus.append(temp)"
   ]
  },
  {
   "cell_type": "code",
   "execution_count": 15,
   "metadata": {},
   "outputs": [
    {
     "name": "stdout",
     "output_type": "stream",
     "text": [
      "新闻新浪网易搜狐网络新闻, 腾讯新闻网易搜狐新浪, 邮箱今日头条\n"
     ]
    }
   ],
   "source": [
    "keyword = ''\n",
    "for line in corpus:   \n",
    "    for i in line:\n",
    "        keyword += i \n",
    "    keyword += ', '\n",
    "keyword = keyword[:-2]\n",
    "print(keyword)"
   ]
  },
  {
   "cell_type": "code",
   "execution_count": 16,
   "metadata": {},
   "outputs": [
    {
     "data": {
      "text/plain": [
       "'新闻新浪网易搜狐网络新闻腾讯邮箱, 今日头条'"
      ]
     },
     "execution_count": 16,
     "metadata": {},
     "output_type": "execute_result"
    }
   ],
   "source": [
    "############# 最大限度组词结果(尽量减少重复词)\n",
    "seg_list = posseg.cut(words)\n",
    "\n",
    "corpus=[]\n",
    "temp = []\n",
    "for word,flag in seg_list:\n",
    "    if flag != 'x':    \n",
    "        corpus.append(word)\n",
    "\n",
    "corpus = remove_dual(corpus)\n",
    "\n",
    "keyword = ''\n",
    "strlen = 0\n",
    "for line in corpus:    \n",
    "    keyword += line \n",
    "    strlen += len(line)\n",
    "    if strlen>15:\n",
    "        keyword += ', '\n",
    "        strlen = 0\n",
    "keyword\n",
    "\n"
   ]
  },
  {
   "cell_type": "code",
   "execution_count": null,
   "metadata": {},
   "outputs": [],
   "source": []
  }
 ],
 "metadata": {
  "kernelspec": {
   "display_name": "Python 3",
   "language": "python",
   "name": "python3"
  },
  "language_info": {
   "codemirror_mode": {
    "name": "ipython",
    "version": 3
   },
   "file_extension": ".py",
   "mimetype": "text/x-python",
   "name": "python",
   "nbconvert_exporter": "python",
   "pygments_lexer": "ipython3",
   "version": "3.5.3"
  }
 },
 "nbformat": 4,
 "nbformat_minor": 2
}
