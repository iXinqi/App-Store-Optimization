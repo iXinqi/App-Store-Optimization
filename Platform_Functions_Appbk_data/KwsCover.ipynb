{
 "cells": [
  {
   "cell_type": "code",
   "execution_count": 1,
   "metadata": {},
   "outputs": [],
   "source": [
    "import time\n",
    "import requests\n",
    "from bs4 import BeautifulSoup\n",
    "import sys ,os,math\n",
    "import json\n",
    "timeout = 4\n",
    "word = '彩票体育qqapp游戏虎淘宝,扑双色球福利大全世界开奖软件,快超级推荐宝疯狂人客娱乐海外,股票多下载经理k腾信网站站,云图客户端平台大乐透好欧冠,查询旧金山城世界足球大免费,手版打篮球网页英超风凰search,足球赛qiu陕西web金山,视屏赞k14陌'\n"
   ]
  },
  {
   "cell_type": "code",
   "execution_count": 2,
   "metadata": {},
   "outputs": [],
   "source": [
    "def get_content(word):\n",
    "    url ='http://rest.appbk.com/word/get_word_cover?n=' +word + '&limit=30&start=0'\n",
    "    try:\n",
    "        resp_ = requests.get(url,timeout=timeout,verify = False)\n",
    "        resp_2 = resp_.content\n",
    "        resp_3 = resp_2.decode('utf-8')\n",
    "        \n",
    "        resp_json = json.loads(resp_3)\n",
    "        num = resp_json['num']\n",
    "        print(num)    \n",
    "    except Exception as e:\n",
    "        print(e)\n"
   ]
  },
  {
   "cell_type": "code",
   "execution_count": 4,
   "metadata": {},
   "outputs": [
    {
     "name": "stdout",
     "output_type": "stream",
     "text": [
      "1865\n"
     ]
    }
   ],
   "source": [
    "get_content(word)"
   ]
  },
  {
   "cell_type": "code",
   "execution_count": null,
   "metadata": {},
   "outputs": [],
   "source": []
  }
 ],
 "metadata": {
  "kernelspec": {
   "display_name": "Python 3.6",
   "language": "python",
   "name": "python36"
  },
  "language_info": {
   "codemirror_mode": {
    "name": "ipython",
    "version": 3
   },
   "file_extension": ".py",
   "mimetype": "text/x-python",
   "name": "python",
   "nbconvert_exporter": "python",
   "pygments_lexer": "ipython3",
   "version": "3.6.2"
  }
 },
 "nbformat": 4,
 "nbformat_minor": 2
}
